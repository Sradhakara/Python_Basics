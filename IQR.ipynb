{
 "cells": [
  {
   "cell_type": "markdown",
   "metadata": {},
   "source": [
    "# Python program to find IQR of a list"
   ]
  },
  {
   "cell_type": "code",
   "execution_count": 48,
   "metadata": {},
   "outputs": [
    {
     "name": "stdout",
     "output_type": "stream",
     "text": [
      "66.0\n"
     ]
    }
   ],
   "source": [
    "# This Programm is calculating IQR of a given dataset without using any inbuilt functions\n",
    "import math\n",
    "V_list = [1, 4, 7, 21, 41, 58, 68, 71, 76, 86]\n",
    "V_Length = len(V_list) + 1\n",
    "#print(V_Length)\n",
    "#Rank_Q1 = V_Length * 0.25\n",
    "#Rank_Q3 = V_Length * 0.75\n",
    "#Exp = Rank_Q1 - math.floor(Rank_Q1)\n",
    "#Exp_2 = Rank_Q3 - math.floor(Rank_Q3)\n",
    "#V_list(math.floor(Rank_Q1))\n",
    "Q1 = V_list[math.floor(V_Length * 0.25) - 1] + (( V_list[math.floor(V_Length * 0.25)] - V_list[math.floor(V_Length * 0.25) - 1]) * ((V_Length * 0.25) - math.floor(V_Length * 0.25)) )\n",
    "Q3 = V_list[math.floor(V_Length * 0.75) - 1] + (( V_list[math.floor(V_Length * 0.75)] - V_list[math.floor(V_Length * 0.75) - 1]) * (V_Length * 0.75 - math.floor(V_Length * 0.75)) )\n",
    "IQR = Q3-Q1\n",
    "print(IQR)\n",
    "\n"
   ]
  }
 ],
 "metadata": {
  "kernelspec": {
   "display_name": "Python 3",
   "language": "python",
   "name": "python3"
  },
  "language_info": {
   "codemirror_mode": {
    "name": "ipython",
    "version": 3
   },
   "file_extension": ".py",
   "mimetype": "text/x-python",
   "name": "python",
   "nbconvert_exporter": "python",
   "pygments_lexer": "ipython3",
   "version": "3.8.3"
  }
 },
 "nbformat": 4,
 "nbformat_minor": 4
}
